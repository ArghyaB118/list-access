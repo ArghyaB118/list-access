{
 "cells": [
  {
   "cell_type": "code",
   "execution_count": 67,
   "id": "47a4cf13",
   "metadata": {},
   "outputs": [],
   "source": [
    "import random\n",
    "\n",
    "def run_opt(req, logp):\n",
    "    if (req <= logp):\n",
    "        opt = pow(pow(2,req),2)\n",
    "    else:\n",
    "        opt = -1\n",
    "    return opt\n",
    "\n",
    "def run_michael(req, logp):\n",
    "    if (req <= logp):\n",
    "        michael = 0\n",
    "        for i in range(req+1):\n",
    "            michael = michael + pow(4,i) * pow(pow(2, req - i),2)\n",
    "    else:\n",
    "        michael = -1\n",
    "    return michael\n",
    "\n",
    "def run_blind_oracle(req, logp):\n",
    "    if (req > logp):\n",
    "        return -1\n",
    "    pred = random.randint(0,logp)\n",
    "    blind = 0\n",
    "    while (pred < req):\n",
    "        blind = blind + pow(pow(2, pred),2)\n",
    "        pred = random.randint(0,logp)\n",
    "    blind = blind + pow(2, pred) * pow(2, req)\n",
    "    return blind\n"
   ]
  },
  {
   "cell_type": "code",
   "execution_count": 108,
   "id": "7dd28020",
   "metadata": {},
   "outputs": [],
   "source": [
    "class Node:\n",
    "    def __init__(self, data=None, child1=None, child2=None, child3=None, child4=None):\n",
    "        self.data = data\n",
    "        self.child1 = child1\n",
    "        self.child2 = child2\n",
    "        self.child3 = child3\n",
    "        self.child4 = child4\n",
    "    \n",
    "    def postorder_traversal(self, root):\n",
    "        res = []\n",
    "        if root:\n",
    "            res = self.postorder_traversal(root.child1)\n",
    "            res = res + self.postorder_traversal(root.child2)\n",
    "            res = res + self.postorder_traversal(root.child3)\n",
    "            res = res + self.postorder_traversal(root.child4)\n",
    "            res.append(root.data)\n",
    "        return res\n",
    "\n",
    "def build_tree(req):\n",
    "    queue = []\n",
    "    root = Node(pow(pow(2, req),2))\n",
    "    queue.append(root)\n",
    "    while (len(queue) != 0):\n",
    "        node = queue[0]\n",
    "        queue.pop(0)\n",
    "        if (node.data != 1):\n",
    "            node.child1 = Node(int(node.data/4)); queue.append(node.child1)\n",
    "            node.child2 = Node(int(node.data/4)); queue.append(node.child2)\n",
    "            node.child3 = Node(int(node.data/4)); queue.append(node.child3)\n",
    "            node.child4 = Node(int(node.data/4)); queue.append(node.child4)\n",
    "    return root\n",
    "\n",
    "    \n",
    "def impact_sharing(req, logp):\n",
    "    root = build_tree(req)\n",
    "    res = root.postorder_traversal(root)\n",
    "    i = 0; cost = 0\n",
    "    while (i <= len(res)):\n",
    "        pred = random.randint(0,logp)\n",
    "        tmp = 0\n",
    "        while (tmp < pow(pow(2, pred),2)):\n",
    "            if (res[i] >= pow(pow(2,req),2)):\n",
    "                cost = cost + tmp + res[i]#; print(tmp, res[i])\n",
    "                break\n",
    "            tmp = tmp + res[i]; i = i + 1\n",
    "        if (pow(pow(2, pred),2) >= pow(pow(2,req),2)):\n",
    "            cost = cost + tmp + pow(2, pred) * pow(2, req)#; print(tmp, pow(pow(2, pred),2))\n",
    "            break\n",
    "        cost = cost + tmp + pow(pow(2, pred),2)#; print(tmp, pow(pow(2, pred),2), 'recur')\n",
    "    return cost\n",
    "\n",
    "\n"
   ]
  },
  {
   "cell_type": "code",
   "execution_count": 110,
   "id": "b0ef69ca",
   "metadata": {},
   "outputs": [
    {
     "name": "stdout",
     "output_type": "stream",
     "text": [
      "1 4 8 128 44 2.0 32.0 11.0\n",
      "1 4 8 128 140 2.0 32.0 35.0\n",
      "2 16 48 513 45 3.0 32.0625 2.8125\n",
      "6 4096 28672 5553 8192 7.0 1.355712890625 2.0\n",
      "4 256 1280 1026 4352 5.0 4.0078125 17.0\n",
      "6 4096 28672 9858 24640 7.0 2.40673828125 6.015625\n",
      "4 256 1280 1232 512 5.0 4.8125 2.0\n",
      "7 16384 131072 16769 44179 8.0 1.02349853515625 2.69647216796875\n",
      "6 4096 28672 5428 27713 7.0 1.3251953125 6.765869140625\n",
      "3 64 256 128 128 4.0 2.0 2.0\n",
      "3 64 256 256 704 4.0 4.0 11.0\n",
      "5 1024 6144 4113 15360 6.0 4.0166015625 15.0\n",
      "7 16384 131072 16448 32768 8.0 1.00390625 2.0\n",
      "7 16384 131072 30600 32768 8.0 1.86767578125 2.0\n",
      "4 256 1280 1092 512 5.0 4.265625 2.0\n",
      "0 1 1 4 3 1.0 4.0 3.0\n",
      "1 4 8 4 28 2.0 1.0 7.0\n",
      "6 4096 28672 8512 24736 7.0 2.078125 6.0390625\n",
      "1 4 8 33 44 2.0 8.25 11.0\n",
      "5 1024 6144 2065 6669 6.0 2.0166015625 6.5126953125\n",
      "3 64 256 128 128 4.0 2.0 2.0\n",
      "3 64 256 512 576 4.0 8.0 9.0\n",
      "2 16 48 128 208 3.0 8.0 13.0\n",
      "2 16 48 514 208 3.0 32.125 13.0\n",
      "7 16384 131072 17664 41244 8.0 1.078125 2.517333984375\n",
      "4.84 7.86782470703125 7.69438232421875\n"
     ]
    }
   ],
   "source": [
    "def run_experiment():\n",
    "    logp = 7\n",
    "    req = random.randint(0,logp)\n",
    "    opt = run_opt(req, logp)\n",
    "    michael = run_michael(req, logp)\n",
    "    blind = run_blind_oracle(req, logp)\n",
    "    impact_share = impact_sharing(req, logp)\n",
    "    michael_cr = michael/opt\n",
    "    blind_cr = blind/opt\n",
    "    impact_cr = impact_share/opt\n",
    "    print(req, opt, michael, blind, impact_share, michael_cr, blind_cr, impact_cr)\n",
    "    return michael_cr, blind_cr, impact_cr\n",
    "\n",
    "    \n",
    "\n",
    "\n",
    "num_times = 25\n",
    "michael_cr, blind_cr, impact_cr = 0, 0, 0\n",
    "for i in range(num_times):\n",
    "    tmp1, tmp2, tmp3 = run_experiment()\n",
    "    michael_cr = michael_cr + tmp1\n",
    "    blind_cr = blind_cr + tmp2\n",
    "    impact_cr = impact_cr + tmp3\n",
    "    \n",
    "print(michael_cr/num_times, blind_cr/num_times, impact_cr/num_times)"
   ]
  },
  {
   "cell_type": "code",
   "execution_count": 100,
   "id": "a60a8e9f",
   "metadata": {},
   "outputs": [
    {
     "name": "stdout",
     "output_type": "stream",
     "text": [
      "64 64 recur\n",
      "4 4 recur\n",
      "956 256\n",
      "956 65536\n"
     ]
    },
    {
     "data": {
      "text/plain": [
       "67840"
      ]
     },
     "execution_count": 100,
     "metadata": {},
     "output_type": "execute_result"
    }
   ],
   "source": [
    "impact_sharing(req, 15)"
   ]
  },
  {
   "cell_type": "code",
   "execution_count": null,
   "id": "62dc9519",
   "metadata": {},
   "outputs": [],
   "source": []
  }
 ],
 "metadata": {
  "kernelspec": {
   "display_name": "Python 3 (ipykernel)",
   "language": "python",
   "name": "python3"
  },
  "language_info": {
   "codemirror_mode": {
    "name": "ipython",
    "version": 3
   },
   "file_extension": ".py",
   "mimetype": "text/x-python",
   "name": "python",
   "nbconvert_exporter": "python",
   "pygments_lexer": "ipython3",
   "version": "3.9.6"
  }
 },
 "nbformat": 4,
 "nbformat_minor": 5
}
